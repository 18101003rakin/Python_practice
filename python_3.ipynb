{
  "nbformat": 4,
  "nbformat_minor": 0,
  "metadata": {
    "colab": {
      "name": "python_3.ipynb",
      "provenance": [],
      "authorship_tag": "ABX9TyN/3m80wPhViU4kyNS9Dat5",
      "include_colab_link": true
    },
    "kernelspec": {
      "name": "python3",
      "display_name": "Python 3"
    },
    "language_info": {
      "name": "python"
    }
  },
  "cells": [
    {
      "cell_type": "markdown",
      "metadata": {
        "id": "view-in-github",
        "colab_type": "text"
      },
      "source": [
        "<a href=\"https://colab.research.google.com/github/18101003rakin/python_practice/blob/master/python_3.ipynb\" target=\"_parent\"><img src=\"https://colab.research.google.com/assets/colab-badge.svg\" alt=\"Open In Colab\"/></a>"
      ]
    },
    {
      "cell_type": "markdown",
      "metadata": {
        "id": "3bNO0TOKW4-7"
      },
      "source": [
        "Tutorial_20 (Car Game)"
      ]
    },
    {
      "cell_type": "code",
      "metadata": {
        "colab": {
          "base_uri": "https://localhost:8080/"
        },
        "id": "W40RIgdvWnNX",
        "outputId": "602fc210-4a96-49b7-c808-123d2576af58"
      },
      "source": [
        "command = \" \"\n",
        "\n",
        "while True:\n",
        "  command = input(\"> \").lower()\n",
        "\n",
        "  if command == \"start\":\n",
        "    print(\"Car is started>>\")\n",
        "\n",
        "  elif command == \"stop\":\n",
        "    print(\"Car is stopped.<<\")\n",
        "  \n",
        "  elif command == \"help\":\n",
        "    print('''\n",
        "    start - to start the car\n",
        "    stop - to stop the car\n",
        "    quit - to quit''')\n",
        "\n",
        "  elif command == \"quit\":\n",
        "    print(\"quited\")\n",
        "    break\n",
        "  \n",
        "  else:\n",
        "    print(\"Sorry! I don't understand.\")"
      ],
      "execution_count": 5,
      "outputs": [
        {
          "output_type": "stream",
          "text": [
            "> help\n",
            "\n",
            "    start - to start the car\n",
            "    stop - to stop the car\n",
            "    quit - to quit\n",
            "> start\n",
            "Car is started>>\n",
            "> stop\n",
            "Car is stopped.<<\n",
            "> hj\n",
            "Sorry! I don't understand.\n",
            "> quit\n",
            "quited\n"
          ],
          "name": "stdout"
        }
      ]
    },
    {
      "cell_type": "markdown",
      "metadata": {
        "id": "R7O6CvhCZYjG"
      },
      "source": [
        "Tutorial_21 (for loop)"
      ]
    },
    {
      "cell_type": "code",
      "metadata": {
        "colab": {
          "base_uri": "https://localhost:8080/"
        },
        "id": "2AC8G7PBaIJH",
        "outputId": "54941195-ef1d-4fe9-e9f7-be6106cd93cf"
      },
      "source": [
        "for item in \"python\":\n",
        "  print(item)\n",
        "\n",
        "for item2 in ['Limon','Rabby','Sazal','Sakib','Rakin']:\n",
        "  print(item2)\n",
        "\n",
        "for item in range(10):\n",
        "  print(item)\n",
        "\n",
        "for item in range(10,20):\n",
        "  print(item)\n",
        "\n",
        "for item in range(10,20,2):\n",
        "  print(item)"
      ],
      "execution_count": 16,
      "outputs": [
        {
          "output_type": "stream",
          "text": [
            "p\n",
            "y\n",
            "t\n",
            "h\n",
            "o\n",
            "n\n",
            "Limon\n",
            "Rabby\n",
            "Sazal\n",
            "Sakib\n",
            "Rakin\n",
            "0\n",
            "1\n",
            "2\n",
            "3\n",
            "4\n",
            "5\n",
            "6\n",
            "7\n",
            "8\n",
            "9\n",
            "10\n",
            "11\n",
            "12\n",
            "13\n",
            "14\n",
            "15\n",
            "16\n",
            "17\n",
            "18\n",
            "19\n",
            "10\n",
            "12\n",
            "14\n",
            "16\n",
            "18\n"
          ],
          "name": "stdout"
        }
      ]
    },
    {
      "cell_type": "markdown",
      "metadata": {
        "id": "AF4dvQmzitQ9"
      },
      "source": [
        "Nested loop"
      ]
    },
    {
      "cell_type": "code",
      "metadata": {
        "colab": {
          "base_uri": "https://localhost:8080/"
        },
        "id": "PTEacmF7jJOz",
        "outputId": "c63c7dac-383a-4b08-ab4a-39843788e1a7"
      },
      "source": [
        "for x in range(4):\n",
        "  for y in range(3):\n",
        "    print(f\"{x},{y}\")"
      ],
      "execution_count": 27,
      "outputs": [
        {
          "output_type": "stream",
          "text": [
            "0,0\n",
            "0,1\n",
            "0,2\n",
            "1,0\n",
            "1,1\n",
            "1,2\n",
            "2,0\n",
            "2,1\n",
            "2,2\n",
            "3,0\n",
            "3,1\n",
            "3,2\n"
          ],
          "name": "stdout"
        }
      ]
    },
    {
      "cell_type": "code",
      "metadata": {
        "colab": {
          "base_uri": "https://localhost:8080/"
        },
        "id": "CQh81KxBjn-p",
        "outputId": "bc73115b-d298-4f53-9ad7-b30a24ede326"
      },
      "source": [
        "#XXXXX\n",
        "#XX\n",
        "#XXXXX\n",
        "#XX\n",
        "#XX\n",
        "\n",
        "numbers = [5,2,5,2,2]\n",
        "for x_count in numbers:\n",
        "  print('x'*x_count)"
      ],
      "execution_count": 28,
      "outputs": [
        {
          "output_type": "stream",
          "text": [
            "xxxxx\n",
            "xx\n",
            "xxxxx\n",
            "xx\n",
            "xx\n"
          ],
          "name": "stdout"
        }
      ]
    },
    {
      "cell_type": "code",
      "metadata": {
        "colab": {
          "base_uri": "https://localhost:8080/"
        },
        "id": "Unk_ar33kMLg",
        "outputId": "635c449d-1f4f-46da-e359-04e86ba4eff6"
      },
      "source": [
        "numbers = [5,2,5,2,2]\n",
        "for x_count in numbers:\n",
        "  output = ''\n",
        "  for count in range(x_count):\n",
        "    output += 'x'\n",
        "print(output)"
      ],
      "execution_count": 30,
      "outputs": [
        {
          "output_type": "stream",
          "text": [
            "xx\n"
          ],
          "name": "stdout"
        }
      ]
    },
    {
      "cell_type": "markdown",
      "metadata": {
        "id": "nSEdyjjZk2V3"
      },
      "source": [
        "Find the largest number from list"
      ]
    },
    {
      "cell_type": "code",
      "metadata": {
        "colab": {
          "base_uri": "https://localhost:8080/"
        },
        "id": "ZGS_i9iLk7hN",
        "outputId": "95a2d648-41e4-40d2-884b-a72468198dca"
      },
      "source": [
        "values = [11,23,34,21,22]\n",
        "largest_value = values[0]\n",
        "\n",
        "for maximum in values:\n",
        "  if maximum>largest_value:\n",
        "    largest_value = maximum\n",
        "print(largest_value)"
      ],
      "execution_count": 31,
      "outputs": [
        {
          "output_type": "stream",
          "text": [
            "34\n"
          ],
          "name": "stdout"
        }
      ]
    },
    {
      "cell_type": "markdown",
      "metadata": {
        "id": "2q2LhqevoXbZ"
      },
      "source": [
        "2D list"
      ]
    },
    {
      "cell_type": "code",
      "metadata": {
        "colab": {
          "base_uri": "https://localhost:8080/"
        },
        "id": "IcnG3rR_oZxf",
        "outputId": "6f39c626-d764-41c0-c87b-98eadf95b9e8"
      },
      "source": [
        "matrix = [\n",
        "          [1,2,3],\n",
        "          [4,5,6],\n",
        "          [7,8,9]\n",
        "]\n",
        "print(matrix[0][1])"
      ],
      "execution_count": 35,
      "outputs": [
        {
          "output_type": "stream",
          "text": [
            "2\n"
          ],
          "name": "stdout"
        }
      ]
    },
    {
      "cell_type": "markdown",
      "metadata": {
        "id": "7Ei3dCmEpHXV"
      },
      "source": [
        "List Methods"
      ]
    },
    {
      "cell_type": "code",
      "metadata": {
        "colab": {
          "base_uri": "https://localhost:8080/"
        },
        "id": "ZfpA4qNJpKI_",
        "outputId": "00d37fb2-8b0e-4e21-b7ce-ec9c11de2693"
      },
      "source": [
        "number = [50,20,1,7,4]\n",
        "\n",
        "number.append(5) #add a new value to the list\n",
        "print(number)\n",
        "number.insert(0,9) #add new value at new position\n",
        "print(number)\n",
        "number.pop() #remove last item from list\n",
        "print(number)\n",
        "\n",
        "#number.index(5) #existence of a value\n",
        "#print(number)\n",
        "print(50 in number) #existence of a value\n",
        "print(number)\n",
        "number.count(5) #to count how many fives in the list\n",
        "print(number)\n",
        "number.sort() #sort the list in assending order\n",
        "print(number)\n",
        "number.reverse() #reverse the sorted list\n",
        "print(number)\n",
        "number_2 = number.copy() #copy the list\n",
        "print(number)\n",
        "number.remove(7) #remove a value\n",
        "print(number)\n",
        "number.clear() #clear the whole list\n",
        "print(number)"
      ],
      "execution_count": 49,
      "outputs": [
        {
          "output_type": "stream",
          "text": [
            "[50, 20, 1, 7, 4, 5]\n",
            "[9, 50, 20, 1, 7, 4, 5]\n",
            "[9, 50, 20, 1, 7, 4]\n",
            "True\n",
            "[9, 50, 20, 1, 7, 4]\n",
            "[9, 50, 20, 1, 7, 4]\n",
            "[1, 4, 7, 9, 20, 50]\n",
            "[50, 20, 9, 7, 4, 1]\n",
            "[50, 20, 9, 7, 4, 1]\n",
            "[50, 20, 9, 4, 1]\n",
            "[]\n"
          ],
          "name": "stdout"
        }
      ]
    },
    {
      "cell_type": "markdown",
      "metadata": {
        "id": "KSK8RPlasc2k"
      },
      "source": [
        "Remove all the duplicate values from [2,3,4,4,2,,6,,7]"
      ]
    },
    {
      "cell_type": "code",
      "metadata": {
        "colab": {
          "base_uri": "https://localhost:8080/"
        },
        "id": "q_DijsvBsl2Q",
        "outputId": "be7b87dc-5869-4e44-cdab-f56b398506bc"
      },
      "source": [
        "numbers = [2,3,4,4,2,6,7]\n",
        "uniques = []\n",
        "\n",
        "for number in numbers:\n",
        "  if number not in uniques:\n",
        "    uniques.append(number)\n",
        "print(uniques)"
      ],
      "execution_count": 52,
      "outputs": [
        {
          "output_type": "stream",
          "text": [
            "[2, 3, 4, 6, 7]\n"
          ],
          "name": "stdout"
        }
      ]
    },
    {
      "cell_type": "markdown",
      "metadata": {
        "id": "iHl1b894x49z"
      },
      "source": [
        "Tutorial_22 (Tupple)"
      ]
    },
    {
      "cell_type": "code",
      "metadata": {
        "colab": {
          "base_uri": "https://localhost:8080/"
        },
        "id": "EFMjtbCOx-p9",
        "outputId": "1f18d477-b83a-43e9-f32b-4ef22a6283e3"
      },
      "source": [
        "number = (1,2,3)\n",
        "print(number[0])"
      ],
      "execution_count": 53,
      "outputs": [
        {
          "output_type": "stream",
          "text": [
            "1\n"
          ],
          "name": "stdout"
        }
      ]
    },
    {
      "cell_type": "markdown",
      "metadata": {
        "id": "ajB0ZtnwyR-d"
      },
      "source": [
        "Tutorial_23 (unpacking)"
      ]
    },
    {
      "cell_type": "code",
      "metadata": {
        "colab": {
          "base_uri": "https://localhost:8080/"
        },
        "id": "p26u_ojOyfHe",
        "outputId": "85d72655-8551-488a-f569-ea1e687ba490"
      },
      "source": [
        "coordinates = (1,2,3)\n",
        "x,y,z = coordinates\n",
        "print(x)"
      ],
      "execution_count": 54,
      "outputs": [
        {
          "output_type": "stream",
          "text": [
            "1\n"
          ],
          "name": "stdout"
        }
      ]
    },
    {
      "cell_type": "markdown",
      "metadata": {
        "id": "xeyHmBUiyyv2"
      },
      "source": [
        "Tutorial_24 (Dictionaries)"
      ]
    },
    {
      "cell_type": "code",
      "metadata": {
        "colab": {
          "base_uri": "https://localhost:8080/"
        },
        "id": "xdtCWfHoy8wG",
        "outputId": "b7f8a6d9-8fbe-47a0-9d4c-906b22c245d6"
      },
      "source": [
        "customer = {\n",
        "    \"name\" : \"John Smith\",\n",
        "    \"age\" : 30,\n",
        "    \"is_verified\" : True\n",
        "}\n",
        "print(customer[\"name\"])\n",
        "customer['name']='Saladin'\n",
        "print(customer.get(\"name\"))\n",
        "print(customer.get(\"address\"))"
      ],
      "execution_count": 60,
      "outputs": [
        {
          "output_type": "stream",
          "text": [
            "John Smith\n",
            "Saladin\n",
            "None\n"
          ],
          "name": "stdout"
        }
      ]
    },
    {
      "cell_type": "markdown",
      "metadata": {
        "id": "8lhCqPPx1qN5"
      },
      "source": [
        "Phone : 1234\n",
        "Output : one two three four"
      ]
    },
    {
      "cell_type": "code",
      "metadata": {
        "colab": {
          "base_uri": "https://localhost:8080/"
        },
        "id": "lIc1Yjmx15GB",
        "outputId": "781d97db-0460-454f-f7eb-da53e1518b92"
      },
      "source": [
        "phone = input(\"Phone : \")\n",
        "digits_mapping = {\n",
        "    \"1\": \"One\",\n",
        "    \"2\": \"Two\",\n",
        "    \"3\": \"Three\",\n",
        "    \"4\": \"Four\"\n",
        "}\n",
        "output=\"\"\n",
        "for ch in phone:\n",
        "  output+=digits_mapping.get(ch,\"!\")+\" \"\n",
        "print(output)"
      ],
      "execution_count": 61,
      "outputs": [
        {
          "output_type": "stream",
          "text": [
            "Phone : 1234\n",
            "One Two Three Four \n"
          ],
          "name": "stdout"
        }
      ]
    },
    {
      "cell_type": "markdown",
      "metadata": {
        "id": "3RUy5xw62qsA"
      },
      "source": [
        "Tutorial_25 (Emoji Converter)\n",
        "I am sad :(\n",
        "-> I am sad :(\n",
        "Good morning :)\n",
        "-> Good morning :)"
      ]
    },
    {
      "cell_type": "code",
      "metadata": {
        "colab": {
          "base_uri": "https://localhost:8080/"
        },
        "id": "cb_eKlJJ24kY",
        "outputId": "69a768dc-c4db-4d50-d0e7-8ed20de242a8"
      },
      "source": [
        "message = input(\"> \")\n",
        "words = message.split(' ')\n",
        "\n",
        "emojis = {\n",
        "    \":)\" : \":)\",\n",
        "    \":(\" : \":(\"\n",
        "}\n",
        "output = \" \"\n",
        "for word in words :\n",
        "  output+=emojis.get(word,word)+\" \"\n",
        "print(output)"
      ],
      "execution_count": 62,
      "outputs": [
        {
          "output_type": "stream",
          "text": [
            "> :)\n",
            " :) \n"
          ],
          "name": "stdout"
        }
      ]
    }
  ]
}