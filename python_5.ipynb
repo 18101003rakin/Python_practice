{
  "nbformat": 4,
  "nbformat_minor": 0,
  "metadata": {
    "colab": {
      "name": "python_5.ipynb",
      "provenance": [],
      "authorship_tag": "ABX9TyMLNLd5xcG9kd5Vp2ZMYxNz",
      "include_colab_link": true
    },
    "kernelspec": {
      "name": "python3",
      "display_name": "Python 3"
    },
    "language_info": {
      "name": "python"
    }
  },
  "cells": [
    {
      "cell_type": "markdown",
      "metadata": {
        "id": "view-in-github",
        "colab_type": "text"
      },
      "source": [
        "<a href=\"https://colab.research.google.com/github/18101003rakin/python_practice/blob/master/python_5.ipynb\" target=\"_parent\"><img src=\"https://colab.research.google.com/assets/colab-badge.svg\" alt=\"Open In Colab\"/></a>"
      ]
    },
    {
      "cell_type": "markdown",
      "metadata": {
        "id": "VcqLZ8PXxhy6"
      },
      "source": [
        "Tutorial_32 (Inheritance)"
      ]
    },
    {
      "cell_type": "code",
      "metadata": {
        "colab": {
          "base_uri": "https://localhost:8080/"
        },
        "id": "NGipOMcoxd9p",
        "outputId": "7592aea3-ff53-453a-e6e4-ca4fc1dfd182"
      },
      "source": [
        "#parent class\n",
        "\n",
        "class Mammal:\n",
        "  def walk(self):\n",
        "    print(\"Walk\")\n",
        "\n",
        "#child class\n",
        "\n",
        "class Dog(Mammal):      #dog class inherit mammal class\n",
        "  def bark(self):\n",
        "    print(\"Bark\")\n",
        "\n",
        "\n",
        "class Cat(Mammal):\n",
        "  def be_annoying(self):\n",
        "    print(\"Annoying\")\n",
        "\n",
        "\n",
        "dog1 = Dog()   #creat an object for dog class\n",
        "dog1.walk()\n",
        "cat1 = Cat()\n",
        "print(cat1)"
      ],
      "execution_count": 4,
      "outputs": [
        {
          "output_type": "stream",
          "text": [
            "Walk\n",
            "<__main__.Cat object at 0x7f79d082b110>\n"
          ],
          "name": "stdout"
        }
      ]
    },
    {
      "cell_type": "markdown",
      "metadata": {
        "id": "P6Hzi0kz1BtF"
      },
      "source": [
        "Tutorial_33"
      ]
    },
    {
      "cell_type": "code",
      "metadata": {
        "colab": {
          "base_uri": "https://localhost:8080/"
        },
        "id": "-QQRW6BS0QcV",
        "outputId": "4a3dee3e-9944-4515-e78d-d4d8bfc80542"
      },
      "source": [
        "def lbs_to_kg(weight):\n",
        "  return weight*0.45\n",
        "\n",
        "def kg_to_lbs(weight):\n",
        "  return weight/0.45\n",
        "\n",
        "print(kg_to_lbs(70))"
      ],
      "execution_count": 7,
      "outputs": [
        {
          "output_type": "stream",
          "text": [
            "155.55555555555554\n"
          ],
          "name": "stdout"
        }
      ]
    },
    {
      "cell_type": "markdown",
      "metadata": {
        "id": "a66j0zNG1ZvF"
      },
      "source": [
        "Tutorial_35 (built in modules)"
      ]
    },
    {
      "cell_type": "code",
      "metadata": {
        "colab": {
          "base_uri": "https://localhost:8080/"
        },
        "id": "HpDfKS_c1iLH",
        "outputId": "a9c020c7-cb9f-4793-ec4e-d6eb70a1abad"
      },
      "source": [
        "import random\n",
        "\n",
        "for i in range(3):\n",
        "  print(random.random())\n",
        "  print(random.randint(10,20))"
      ],
      "execution_count": 9,
      "outputs": [
        {
          "output_type": "stream",
          "text": [
            "0.7612367951435516\n",
            "20\n",
            "0.9648856509893254\n",
            "18\n",
            "0.8407720575683963\n",
            "15\n"
          ],
          "name": "stdout"
        }
      ]
    },
    {
      "cell_type": "code",
      "metadata": {
        "colab": {
          "base_uri": "https://localhost:8080/"
        },
        "id": "uI1nNcfe2AmW",
        "outputId": "d4824b1b-b4e6-4aba-c54b-fde92db73e79"
      },
      "source": [
        "import random\n",
        "members = ['Nowrin', 'Orin', 'Tarin', 'Rakin']\n",
        "leader = random.choice(members)\n",
        "print(leader)\n"
      ],
      "execution_count": 12,
      "outputs": [
        {
          "output_type": "stream",
          "text": [
            "Orin\n"
          ],
          "name": "stdout"
        }
      ]
    },
    {
      "cell_type": "markdown",
      "metadata": {
        "id": "w2QzVKX02t26"
      },
      "source": [
        "Define a class Dice, in this class we are gonna have a method call roll(). every time we call we will get a tupple. Ex:(3,2) or (2,3) etc."
      ]
    },
    {
      "cell_type": "code",
      "metadata": {
        "colab": {
          "base_uri": "https://localhost:8080/"
        },
        "id": "9UQVQE6Z3HPM",
        "outputId": "fe92174d-25b0-4247-c3b4-c0cbff3b0681"
      },
      "source": [
        "import random\n",
        "class Dice:\n",
        "  def roll(self):\n",
        "    first = random.randint(1,6)\n",
        "    second = random.randint(1,6)\n",
        "    return first, second\n",
        "\n",
        "dice = Dice()\n",
        "print(dice.roll())"
      ],
      "execution_count": 16,
      "outputs": [
        {
          "output_type": "stream",
          "text": [
            "(2, 2)\n"
          ],
          "name": "stdout"
        }
      ]
    }
  ]
}