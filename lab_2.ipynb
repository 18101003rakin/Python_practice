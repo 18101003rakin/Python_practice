{
  "nbformat": 4,
  "nbformat_minor": 0,
  "metadata": {
    "colab": {
      "name": "lab_2.ipynb",
      "provenance": [],
      "collapsed_sections": [],
      "authorship_tag": "ABX9TyMJ3YbUPMbcFWLN8zOQ00JU",
      "include_colab_link": true
    },
    "kernelspec": {
      "name": "python3",
      "display_name": "Python 3"
    },
    "language_info": {
      "name": "python"
    }
  },
  "cells": [
    {
      "cell_type": "markdown",
      "metadata": {
        "id": "view-in-github",
        "colab_type": "text"
      },
      "source": [
        "<a href=\"https://colab.research.google.com/github/18101003rakin/python_practice/blob/master/lab_2.ipynb\" target=\"_parent\"><img src=\"https://colab.research.google.com/assets/colab-badge.svg\" alt=\"Open In Colab\"/></a>"
      ]
    },
    {
      "cell_type": "markdown",
      "metadata": {
        "id": "wRNPN1-TeTcz"
      },
      "source": [
        "# **Priority Scheduling**"
      ]
    },
    {
      "cell_type": "code",
      "metadata": {
        "colab": {
          "base_uri": "https://localhost:8080/",
          "height": 222
        },
        "id": "MPyQRw01c0le",
        "outputId": "97da0a69-eeb4-4283-82b5-6975e54aa3c2"
      },
      "source": [
        "import pandas as pd\n",
        "\n",
        "\n",
        "print('Process name :', end=' ')\n",
        "process = input().split()\n",
        "\n",
        "print('Brurst time :', end=' ')\n",
        "time = list(map(int, input().split()))\n",
        "\n",
        "print('Priority :', end=' ')\n",
        "priority = list(map(int, input().split()))\n",
        "\n",
        "nl = [process, time, priority]\n",
        "df = pd.DataFrame(nl).transpose()\n",
        "df.columns = ['Process', 'Time', 'Priority']\n",
        "df"
      ],
      "execution_count": 2,
      "outputs": [
        {
          "output_type": "stream",
          "text": [
            "Process name : p1 p2 p3 p4\n",
            "Brurst time : 21 3 6 2\n",
            "Priority : 2 1 4 3\n"
          ],
          "name": "stdout"
        },
        {
          "output_type": "execute_result",
          "data": {
            "text/html": [
              "<div>\n",
              "<style scoped>\n",
              "    .dataframe tbody tr th:only-of-type {\n",
              "        vertical-align: middle;\n",
              "    }\n",
              "\n",
              "    .dataframe tbody tr th {\n",
              "        vertical-align: top;\n",
              "    }\n",
              "\n",
              "    .dataframe thead th {\n",
              "        text-align: right;\n",
              "    }\n",
              "</style>\n",
              "<table border=\"1\" class=\"dataframe\">\n",
              "  <thead>\n",
              "    <tr style=\"text-align: right;\">\n",
              "      <th></th>\n",
              "      <th>Process</th>\n",
              "      <th>Time</th>\n",
              "      <th>Priority</th>\n",
              "    </tr>\n",
              "  </thead>\n",
              "  <tbody>\n",
              "    <tr>\n",
              "      <th>0</th>\n",
              "      <td>p1</td>\n",
              "      <td>21</td>\n",
              "      <td>2</td>\n",
              "    </tr>\n",
              "    <tr>\n",
              "      <th>1</th>\n",
              "      <td>p2</td>\n",
              "      <td>3</td>\n",
              "      <td>1</td>\n",
              "    </tr>\n",
              "    <tr>\n",
              "      <th>2</th>\n",
              "      <td>p3</td>\n",
              "      <td>6</td>\n",
              "      <td>4</td>\n",
              "    </tr>\n",
              "    <tr>\n",
              "      <th>3</th>\n",
              "      <td>p4</td>\n",
              "      <td>2</td>\n",
              "      <td>3</td>\n",
              "    </tr>\n",
              "  </tbody>\n",
              "</table>\n",
              "</div>"
            ],
            "text/plain": [
              "  Process Time Priority\n",
              "0      p1   21        2\n",
              "1      p2    3        1\n",
              "2      p3    6        4\n",
              "3      p4    2        3"
            ]
          },
          "metadata": {
            "tags": []
          },
          "execution_count": 2
        }
      ]
    },
    {
      "cell_type": "code",
      "metadata": {
        "colab": {
          "base_uri": "https://localhost:8080/"
        },
        "id": "pVkcACs1eBcP",
        "outputId": "a5eb125a-d247-4ec5-83a3-1f4920ee956b"
      },
      "source": [
        "import numpy as np\n",
        "\n",
        "df.sort_values(by=['Priority'], ascending=True, axis=0, inplace=True)\n",
        "df\n",
        "\n",
        "print(0, end=' ')\n",
        "\n",
        "temp = 0\n",
        "nl2 = [0]\n",
        "\n",
        "for p, t in zip(df.Process, df.Time): \n",
        "    temp += t\n",
        "    nl2.append(temp)\n",
        "    print(p, temp, end=' ')\n",
        "\n",
        "nl2 = nl2[:-1]\n",
        "nl2\n",
        "\n",
        "waiting = np.sum(nl2)/len(nl2)\n",
        "print('\\nAverage waiting time : {0:.2f}ms'.format(waiting))"
      ],
      "execution_count": 3,
      "outputs": [
        {
          "output_type": "stream",
          "text": [
            "0 p2 3 p1 24 p4 26 p3 32 \n",
            "Average waiting time : 13.25ms\n"
          ],
          "name": "stdout"
        }
      ]
    },
    {
      "cell_type": "markdown",
      "metadata": {
        "id": "7scwEe3kejdV"
      },
      "source": [
        "# **Round Robin**"
      ]
    },
    {
      "cell_type": "code",
      "metadata": {
        "colab": {
          "base_uri": "https://localhost:8080/"
        },
        "id": "PkMaK71beuuF",
        "outputId": "84194f79-f425-4ac4-a5bd-e656151c0382"
      },
      "source": [
        "def waitingtime(num_of_process, burst_time, waiting_time, quantum):\n",
        "    remaining_burst_time = [0] * num_of_process\n",
        "    for i in range(num_of_process):\n",
        "        remaining_burst_time[i] = burst_time[i]\n",
        "    time = 0\n",
        "    while 1:\n",
        "        done = True\n",
        "        for i in range(num_of_process):\n",
        "            if remaining_burst_time[i] > 0:\n",
        "                done = False\n",
        "                if remaining_burst_time[i] > quantum:\n",
        "                    time += quantum\n",
        "                    remaining_burst_time[i] -= quantum\n",
        "                    print(waiting_time[i], \"P\", i + 1, end='|')\n",
        "                else:\n",
        "                    time = time + remaining_burst_time[i]\n",
        "                    waiting_time[i] = time - burst_time[i]\n",
        "                    remaining_burst_time[i] = 0\n",
        "                    print(waiting_time[i], \"P\", i + 1, end='|')\n",
        "        if done:\n",
        "            break\n",
        "\n",
        "\n",
        "def findavgtime(num_of_process, burst_time, quantum):\n",
        "    waiting_time = [0] * num_of_process\n",
        "    waitingtime(num_of_process, burst_time, waiting_time, quantum)\n",
        "    total_waiting_time = 0\n",
        "    for i in range(num_of_process):\n",
        "        total_waiting_time = total_waiting_time + waiting_time[i]\n",
        "    print(\"\\nAverage waiting time =  \", (total_waiting_time / num_of_process))\n",
        "\n",
        "\n",
        "burst_time = []\n",
        "num_of_process = int(input(\"Enter Number of Process: \"))\n",
        "serial = 1\n",
        "for i in range(num_of_process):\n",
        "    print(\"For process = \", serial, end='')\n",
        "    burst_time.append(int(input(\", Burst Time = \")))\n",
        "    serial += 1\n",
        "\n",
        "quantum = int(input(\"Enter Quantum = \"))\n",
        "findavgtime(num_of_process, burst_time, quantum)"
      ],
      "execution_count": 4,
      "outputs": [
        {
          "output_type": "stream",
          "text": [
            "Enter Number of Process: 4\n",
            "For process =  1, Burst Time = 21\n",
            "For process =  2, Burst Time = 3\n",
            "For process =  3, Burst Time = 6\n",
            "For process =  4, Burst Time = 2\n",
            "Enter Quantum = 5\n",
            "0 P 1|5 P 2|0 P 3|13 P 4|0 P 1|15 P 3|0 P 1|0 P 1|11 P 1|\n",
            "Average waiting time =   11.0\n"
          ],
          "name": "stdout"
        }
      ]
    }
  ]
}