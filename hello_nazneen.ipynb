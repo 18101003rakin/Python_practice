{
  "nbformat": 4,
  "nbformat_minor": 0,
  "metadata": {
    "colab": {
      "provenance": [],
      "authorship_tag": "ABX9TyOYSdVwjf3Ct3I45UlBrO1h",
      "include_colab_link": true
    },
    "kernelspec": {
      "name": "python3",
      "display_name": "Python 3"
    },
    "language_info": {
      "name": "python"
    }
  },
  "cells": [
    {
      "cell_type": "markdown",
      "metadata": {
        "id": "view-in-github",
        "colab_type": "text"
      },
      "source": [
        "<a href=\"https://colab.research.google.com/github/18101003rakin/python_practice/blob/main/hello_nazneen.ipynb\" target=\"_parent\"><img src=\"https://colab.research.google.com/assets/colab-badge.svg\" alt=\"Open In Colab\"/></a>"
      ]
    },
    {
      "cell_type": "code",
      "execution_count": 1,
      "metadata": {
        "colab": {
          "base_uri": "https://localhost:8080/"
        },
        "id": "AN6QQFiywjJQ",
        "outputId": "259c8670-e7b9-406a-d719-643e91404ac9"
      },
      "outputs": [
        {
          "output_type": "stream",
          "name": "stdout",
          "text": [
            "Hello Nazneen\n"
          ]
        }
      ],
      "source": [
        "print(\"Hello Nazneen\")"
      ]
    },
    {
      "cell_type": "markdown",
      "source": [
        "2nd box"
      ],
      "metadata": {
        "id": "trOj2kzTw4Sd"
      }
    },
    {
      "cell_type": "code",
      "source": [],
      "metadata": {
        "id": "8C-4AP_ewy9X"
      },
      "execution_count": null,
      "outputs": []
    }
  ]
}