{
  "nbformat": 4,
  "nbformat_minor": 0,
  "metadata": {
    "colab": {
      "name": "python_2.ipynb",
      "provenance": [],
      "authorship_tag": "ABX9TyNhiHKJGLGoInQu+XIP9qY7",
      "include_colab_link": true
    },
    "kernelspec": {
      "name": "python3",
      "display_name": "Python 3"
    },
    "language_info": {
      "name": "python"
    }
  },
  "cells": [
    {
      "cell_type": "markdown",
      "metadata": {
        "id": "view-in-github",
        "colab_type": "text"
      },
      "source": [
        "<a href=\"https://colab.research.google.com/github/18101003rakin/python_practice/blob/master/python_2.ipynb\" target=\"_parent\"><img src=\"https://colab.research.google.com/assets/colab-badge.svg\" alt=\"Open In Colab\"/></a>"
      ]
    },
    {
      "cell_type": "markdown",
      "metadata": {
        "id": "5i1-Mj2sUzGO"
      },
      "source": [
        "Tutorial_12 (math function)"
      ]
    },
    {
      "cell_type": "code",
      "metadata": {
        "colab": {
          "base_uri": "https://localhost:8080/"
        },
        "id": "OF35l-zHUtO8",
        "outputId": "89533956-46d0-47a7-e6c4-add92948cac2"
      },
      "source": [
        "x = 2.9\n",
        "print(round(x)) #make floating value to a round value\n",
        "print(abs(-2.9)) #always returns absolute value(positive number)\n",
        "\n",
        "import math  #math is like an objective for the string\n",
        "print(math.ceil(2.9))"
      ],
      "execution_count": 1,
      "outputs": [
        {
          "output_type": "stream",
          "text": [
            "3\n",
            "2.9\n",
            "3\n"
          ],
          "name": "stdout"
        }
      ]
    },
    {
      "cell_type": "markdown",
      "metadata": {
        "id": "C0ceieKlVq3I"
      },
      "source": [
        "Tutorial_13 (if statement)"
      ]
    },
    {
      "cell_type": "code",
      "metadata": {
        "colab": {
          "base_uri": "https://localhost:8080/"
        },
        "id": "ZOX1gdyJVyjH",
        "outputId": "88cb5bbf-2d94-4468-d47c-bafb07a68e88"
      },
      "source": [
        "is_hot = True\n",
        "if is_hot :\n",
        "  print(\"It's a hot day!\")\n",
        "print(\"Enjoy your day.\")"
      ],
      "execution_count": 2,
      "outputs": [
        {
          "output_type": "stream",
          "text": [
            "It's a hot day!\n",
            "Enjoy your day.\n"
          ],
          "name": "stdout"
        }
      ]
    },
    {
      "cell_type": "code",
      "metadata": {
        "colab": {
          "base_uri": "https://localhost:8080/"
        },
        "id": "tzmcDYPOWT9h",
        "outputId": "c7e988f1-3149-4576-f208-7740d4eb76ef"
      },
      "source": [
        "is_hot = True\n",
        "is_cold = False\n",
        "\n",
        "if is_hot:\n",
        "  print(\"It's a hot day!\")\n",
        "  print(\"Drink plenty of water.\")\n",
        "\n",
        "elif is_cold:\n",
        "  print(\"It's a cold day!\")\n",
        "  print(\"Wear warm cloth.\")\n",
        "\n",
        "else:\n",
        "  print(\"It's a lovely day!\")\n",
        "print(\"Enjoy your day.\")"
      ],
      "execution_count": 4,
      "outputs": [
        {
          "output_type": "stream",
          "text": [
            "It's a hot day!\n",
            "Drink plenty of water.\n",
            "Enjoy your day.\n"
          ],
          "name": "stdout"
        }
      ]
    },
    {
      "cell_type": "markdown",
      "metadata": {
        "id": "2xcHNAsSXQBf"
      },
      "source": [
        "Write a program for- price of a house is $1M. If buyer has good credit they need to put down 10% otherwise they need to put down 20% print the down payment."
      ]
    },
    {
      "cell_type": "code",
      "metadata": {
        "colab": {
          "base_uri": "https://localhost:8080/"
        },
        "id": "zbf-ZQucX0k-",
        "outputId": "8a3d9499-9826-42c6-b547-28c8a95da779"
      },
      "source": [
        "price_of_house = 1000000\n",
        "has_good_credit = True\n",
        "\n",
        "if has_good_credit:\n",
        "  down_payment = 0.1*price_of_house\n",
        "else:\n",
        "  down_payment=0.2*price_of_house\n",
        "print(f\"Down payment: ${down_payment}\")"
      ],
      "execution_count": 5,
      "outputs": [
        {
          "output_type": "stream",
          "text": [
            "Down payment: $100000.0\n"
          ],
          "name": "stdout"
        }
      ]
    },
    {
      "cell_type": "markdown",
      "metadata": {
        "id": "tuvkgt49Yfa0"
      },
      "source": [
        "Tutorial_14 (Logic operators)"
      ]
    },
    {
      "cell_type": "code",
      "metadata": {
        "colab": {
          "base_uri": "https://localhost:8080/"
        },
        "id": "MJjRurAsZA5e",
        "outputId": "39b1bbe6-a803-453f-ca65-925f0a47e00f"
      },
      "source": [
        "# and - for both condition are true/false\n",
        "\n",
        "has_high_income = True\n",
        "has_good_credit = False\n",
        "\n",
        "if has_high_income and has_good_credit:\n",
        "  print(\"Eligible for loan\")\n",
        "\n",
        "\n",
        "#or - at least one condition is true\n",
        "\n",
        "has_high_income = True\n",
        "has_good_credit = True\n",
        "\n",
        "if has_high_income or has_good_credit:\n",
        "  print(\"Eligible for loan 2\")\n",
        "\n",
        "\n",
        "#NOT - inverse the boolean function"
      ],
      "execution_count": 8,
      "outputs": [
        {
          "output_type": "stream",
          "text": [
            "Eligible for loan 2\n"
          ],
          "name": "stdout"
        }
      ]
    },
    {
      "cell_type": "markdown",
      "metadata": {
        "id": "S22WcryXaFI_"
      },
      "source": [
        "Tutorial_15 (comparision operators)"
      ]
    },
    {
      "cell_type": "code",
      "metadata": {
        "colab": {
          "base_uri": "https://localhost:8080/"
        },
        "id": "X-uBJJIyadY5",
        "outputId": "7c9b133a-76f5-4f32-87eb-2157c2deab12"
      },
      "source": [
        "# operators - >,<,==\n",
        "\n",
        "temperature = 30\n",
        "if temperature > 30:\n",
        "  print(\"It's a hot day!\")\n",
        "else:\n",
        "  print(\"It's not a hot day.\")"
      ],
      "execution_count": 9,
      "outputs": [
        {
          "output_type": "stream",
          "text": [
            "It's not a hot day.\n"
          ],
          "name": "stdout"
        }
      ]
    },
    {
      "cell_type": "markdown",
      "metadata": {
        "id": "HJ0WnmIgbB38"
      },
      "source": [
        "Tutorial_16 (if name is less than 3 character long, print name must be at least 3 characters. Otherwise if it's more than 50 characters long print name can be a maximum of 50 characters. Otherwise print name looks great!"
      ]
    },
    {
      "cell_type": "code",
      "metadata": {
        "colab": {
          "base_uri": "https://localhost:8080/"
        },
        "id": "2y8nZCwKbpxD",
        "outputId": "e0e8eee8-8fcb-4062-d24b-b76a83a4f73d"
      },
      "source": [
        "name = input(\"Enter name: \")\n",
        "print(name)\n",
        "\n",
        "if(len(name)<3):\n",
        "  print(\"Name must be at least 3 chararters.\")\n",
        "\n",
        "elif(len(name)>50):\n",
        "  print(\"Name can be a maximum of 50 characters.\")\n",
        "\n",
        "else:\n",
        "  print(\"Name looks great!\")"
      ],
      "execution_count": 12,
      "outputs": [
        {
          "output_type": "stream",
          "text": [
            "Enter name: rakin\n",
            "rakin\n",
            "Name looks great!\n"
          ],
          "name": "stdout"
        }
      ]
    },
    {
      "cell_type": "markdown",
      "metadata": {
        "id": "imMu6CDSgzVX"
      },
      "source": [
        "Tutorial_17 (Weight converter)"
      ]
    },
    {
      "cell_type": "code",
      "metadata": {
        "colab": {
          "base_uri": "https://localhost:8080/"
        },
        "id": "W--WowF7iNoa",
        "outputId": "37779b33-c0fa-43b6-f23a-ed8a1d747fd1"
      },
      "source": [
        "weight = input(\"Enter your weight : \")\n",
        "unit =input (\"(L)bs or (K)gs : \")\n",
        "\n",
        "if unit.upper() =='L':\n",
        "  weight = float(weight)*0.45\n",
        "  print(f\"your weight is {weight} kgs\")\n",
        "\n",
        "elif unit.upper()=='K':\n",
        "  weight = float(weight)/0.45\n",
        "  print(f\"your weight is {weight} lbs\")"
      ],
      "execution_count": 14,
      "outputs": [
        {
          "output_type": "stream",
          "text": [
            "Enter your weight : 90\n",
            "(L)bs or (K)gs : k\n",
            "your weight is 200.0 lbs\n"
          ],
          "name": "stdout"
        }
      ]
    },
    {
      "cell_type": "markdown",
      "metadata": {
        "id": "i4go49L8j0g3"
      },
      "source": [
        "Tutorial_18 (while loop)"
      ]
    },
    {
      "cell_type": "code",
      "metadata": {
        "colab": {
          "base_uri": "https://localhost:8080/"
        },
        "id": "uJ3hZvrjj9Cs",
        "outputId": "7e4f0fbb-e08d-4c05-d596-0f35778d6b43"
      },
      "source": [
        "i = 1\n",
        "while i<=5:\n",
        "  print(i)\n",
        "  i+=1\n",
        "print(\"Done\")\n",
        " "
      ],
      "execution_count": 16,
      "outputs": [
        {
          "output_type": "stream",
          "text": [
            "1\n",
            "2\n",
            "3\n",
            "4\n",
            "5\n",
            "Done\n"
          ],
          "name": "stdout"
        }
      ]
    },
    {
      "cell_type": "markdown",
      "metadata": {
        "id": "znXqY7yEky69"
      },
      "source": [
        "Tutorial_19 (guessing game)"
      ]
    },
    {
      "cell_type": "code",
      "metadata": {
        "colab": {
          "base_uri": "https://localhost:8080/"
        },
        "id": "K0ZxeWZqk0LR",
        "outputId": "3a9a8623-d874-46a1-9da5-1ea1deb99965"
      },
      "source": [
        "secret_number = 9\n",
        "guess_count = 0\n",
        "guess_limit = 3\n",
        "\n",
        "while guess_count<guess_limit:\n",
        "  guess = int(input(\"Guess : \"))\n",
        "  guess_count+=1\n",
        "  if guess == secret_number:\n",
        "    print(\"You Win!\")\n",
        "    break\n",
        "  elif guess!=secret_number:\n",
        "    print(\"sorry! try again\")\n",
        "  else:\n",
        "    print(\"you loss\")"
      ],
      "execution_count": 19,
      "outputs": [
        {
          "output_type": "stream",
          "text": [
            "Guess : 9\n",
            "You Win!\n"
          ],
          "name": "stdout"
        }
      ]
    }
  ]
}