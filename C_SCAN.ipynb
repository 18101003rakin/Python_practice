{
  "nbformat": 4,
  "nbformat_minor": 0,
  "metadata": {
    "colab": {
      "name": "C-SCAN.ipynb",
      "provenance": [],
      "authorship_tag": "ABX9TyONOKYrfqu1MEWaxhR8Di/x",
      "include_colab_link": true
    },
    "kernelspec": {
      "name": "python3",
      "display_name": "Python 3"
    },
    "language_info": {
      "name": "python"
    }
  },
  "cells": [
    {
      "cell_type": "markdown",
      "metadata": {
        "id": "view-in-github",
        "colab_type": "text"
      },
      "source": [
        "<a href=\"https://colab.research.google.com/github/18101003rakin/python_practice/blob/master/C_SCAN.ipynb\" target=\"_parent\"><img src=\"https://colab.research.google.com/assets/colab-badge.svg\" alt=\"Open In Colab\"/></a>"
      ]
    },
    {
      "cell_type": "code",
      "metadata": {
        "colab": {
          "base_uri": "https://localhost:8080/"
        },
        "id": "IeqbmRqnCX-1",
        "outputId": "06ef9294-d213-4295-8e4d-59d876ae77a2"
      },
      "source": [
        "queue = list(map(int, input('Queue: ').split()))\n",
        "head = int(input('Head: '))\n",
        "\n",
        "q = queue.copy()\n",
        "q.insert(0, head)\n",
        "q.sort()\n",
        "\n",
        "l1 = q[:q.index(head)]\n",
        "l1.insert(0, 0)\n",
        "print(l1)\n",
        "\n",
        "\n",
        "l2 = q[q.index(head):]\n",
        "l2.append(199)\n",
        "print(l2)\n",
        "\n",
        "l3 = l2 + l1\n",
        "print(l3)"
      ],
      "execution_count": null,
      "outputs": [
        {
          "output_type": "stream",
          "name": "stdout",
          "text": [
            "Queue: 98 183 37 122 14 124 65 67\n",
            "Head: 53\n",
            "[0, 14, 37]\n",
            "[53, 65, 67, 98, 122, 124, 183, 199]\n",
            "[53, 65, 67, 98, 122, 124, 183, 199, 0, 14, 37]\n"
          ]
        }
      ]
    },
    {
      "cell_type": "code",
      "metadata": {
        "colab": {
          "base_uri": "https://localhost:8080/"
        },
        "id": "FHzBQF_DDA2h",
        "outputId": "5f4972d4-99df-48ad-9802-fb75990caeca"
      },
      "source": [
        "cont = []\n",
        "m = len(l2)\n",
        "n = len(l1)\n",
        "\n",
        "print(f'Queue: {queue}\\nHead: {head}\\n')\n",
        "print(f'Path: {l3}\\nEquation:', end=' ')\n",
        "\n",
        "for i in range(m - 1):\n",
        "    print(f'({l2[i+1]} - {l2[i]})', end='')\n",
        "    cont.append(abs(l2[i+1] - l2[i]))\n",
        "    if i < m - 2:\n",
        "        print(end=' + ')\n",
        "\n",
        "print(end=' + ')\n",
        "\n",
        "for j in range(n - 1):\n",
        "    print(f'({l1[j+1]} - {l1[j]})', end='')\n",
        "    cont.append(abs(l1[j+1] - l1[j]))\n",
        "    if j < n - 2:\n",
        "        print(end=' + ')\n",
        "\n",
        "print(f'\\nIllustration shows total head movement of {sum(cont)} cylinders.')"
      ],
      "execution_count": null,
      "outputs": [
        {
          "output_type": "stream",
          "name": "stdout",
          "text": [
            "Queue: [98, 183, 37, 122, 14, 124, 65, 67]\n",
            "Head: 53\n",
            "\n",
            "Path: [53, 65, 67, 98, 122, 124, 183, 199, 0, 14, 37]\n",
            "Equation: (65 - 53) + (67 - 65) + (98 - 67) + (122 - 98) + (124 - 122) + (183 - 124) + (199 - 183) + (14 - 0) + (37 - 14)\n",
            "Illustration shows total head movement of 183 cylinders.\n"
          ]
        }
      ]
    }
  ]
}