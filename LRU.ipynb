{
  "nbformat": 4,
  "nbformat_minor": 0,
  "metadata": {
    "colab": {
      "name": "LRU.ipynb",
      "provenance": [],
      "authorship_tag": "ABX9TyOSjWuOchCp5/rL07rcY/MD",
      "include_colab_link": true
    },
    "kernelspec": {
      "name": "python3",
      "display_name": "Python 3"
    },
    "language_info": {
      "name": "python"
    }
  },
  "cells": [
    {
      "cell_type": "markdown",
      "metadata": {
        "id": "view-in-github",
        "colab_type": "text"
      },
      "source": [
        "<a href=\"https://colab.research.google.com/github/18101003rakin/python_practice/blob/master/LRU.ipynb\" target=\"_parent\"><img src=\"https://colab.research.google.com/assets/colab-badge.svg\" alt=\"Open In Colab\"/></a>"
      ]
    },
    {
      "cell_type": "markdown",
      "metadata": {
        "id": "ilqiyoQTeQMD"
      },
      "source": [
        "LRU"
      ]
    },
    {
      "cell_type": "code",
      "metadata": {
        "colab": {
          "base_uri": "https://localhost:8080/"
        },
        "id": "oC7VHmigd-vl",
        "outputId": "e2b044ad-1b9b-4516-8c30-39558e18942d"
      },
      "source": [
        "rs = list(map(int, input('Reference Sting: ').split()))\n",
        "fs = int(input('Frame no: '))\n",
        "cont = []\n",
        "temp = []\n",
        "keys = []\n",
        "flts = 0\n",
        "hits = 0\n",
        "\n",
        "n = len(rs)\n",
        "for i in range(n):\n",
        "    temp.append(rs[i])\n",
        "    if (len(cont) < fs):\n",
        "        if (rs[i] not in cont):\n",
        "            cont.append(rs[i])\n",
        "            keys.append(rs[i])\n",
        "            print(cont)\n",
        "            flts += 1\n",
        "    else:\n",
        "        if (rs[i] not in cont):\n",
        "            keys = []\n",
        "            for x in temp:\n",
        "                if x in cont:\n",
        "                    keys.append(x)\n",
        "\n",
        "            for y in keys:\n",
        "                while (keys.count(y) > 1):\n",
        "                    keys.remove(y)\n",
        "\n",
        "            v = keys[0]\n",
        "            cont[cont.index(v)] = rs[i]\n",
        "            print(cont)\n",
        "            flts += 1\n",
        "        else:\n",
        "            hits += 1\n",
        "            print('- - - - -')\n",
        "print(f'Total page faults: {flts}\\nTotal hits: {hits}')"
      ],
      "execution_count": 1,
      "outputs": [
        {
          "output_type": "stream",
          "name": "stdout",
          "text": [
            "Reference Sting: 7 0 1 2 0 3 0 4 2 3 0 3 2 1 2 0 1 7 0 1\n",
            "Frame no: 3\n",
            "[7]\n",
            "[7, 0]\n",
            "[7, 0, 1]\n",
            "[2, 0, 1]\n",
            "- - - - -\n",
            "[2, 0, 3]\n",
            "- - - - -\n",
            "[4, 0, 3]\n",
            "[4, 0, 2]\n",
            "[4, 3, 2]\n",
            "[0, 3, 2]\n",
            "- - - - -\n",
            "- - - - -\n",
            "[1, 3, 2]\n",
            "- - - - -\n",
            "[1, 0, 2]\n",
            "- - - - -\n",
            "[1, 0, 7]\n",
            "- - - - -\n",
            "- - - - -\n",
            "Total page faults: 12\n",
            "Total hits: 8\n"
          ]
        }
      ]
    }
  ]
}