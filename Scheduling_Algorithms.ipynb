{
  "nbformat": 4,
  "nbformat_minor": 0,
  "metadata": {
    "colab": {
      "name": "Lab-1.ipynb",
      "provenance": [],
      "authorship_tag": "ABX9TyMpc2fQvPjqh31MOfsUKn6R",
      "include_colab_link": true
    },
    "kernelspec": {
      "name": "python3",
      "display_name": "Python 3"
    },
    "language_info": {
      "name": "python"
    }
  },
  "cells": [
    {
      "cell_type": "markdown",
      "metadata": {
        "id": "view-in-github",
        "colab_type": "text"
      },
      "source": [
        "<a href=\"https://colab.research.google.com/github/18101003rakin/python_practice/blob/master/Scheduling_Algorithms.ipynb\" target=\"_parent\"><img src=\"https://colab.research.google.com/assets/colab-badge.svg\" alt=\"Open In Colab\"/></a>"
      ]
    },
    {
      "cell_type": "markdown",
      "metadata": {
        "id": "Hci4F4ssUKg5"
      },
      "source": [
        "# **First Come Serve**"
      ]
    },
    {
      "cell_type": "code",
      "metadata": {
        "colab": {
          "base_uri": "https://localhost:8080/"
        },
        "id": "dWxTPfQPUEje",
        "outputId": "76e3e3c0-9d88-485b-c50e-c317bfe12848"
      },
      "source": [
        "import pandas as pd\n",
        "import numpy as np\n",
        "\n",
        "print('Process name :', end=' ')\n",
        "process = input().split()\n",
        "\n",
        "print('Brurst time :', end=' ')\n",
        "time = list(map(int, input().split()))\n",
        "\n",
        "process\n",
        "time\n",
        "\n",
        "type(process)\n",
        "type(process[1])\n",
        "\n",
        "type(time)\n",
        "type(time[1])\n",
        "\n",
        "\n",
        "l = [process, time]\n",
        "df = pd.DataFrame(l).transpose()\n",
        "df.columns = ['Process', 'Time']\n",
        "df\n",
        "\n",
        "print(0, end=' ')\n",
        "\n",
        "temp = 0\n",
        "l2 = [0]\n",
        "\n",
        "for p, t in zip(df.Process, df.Time):\n",
        "    temp = temp + t\n",
        "    l2.append(temp)\n",
        "    print(p, temp, end=' ')\n",
        "\n",
        "l2\n",
        "l2 = l2[:-1]\n",
        "l2\n",
        "\n",
        "waiting = np.sum(l2)/len(l2)\n",
        "print('\\nAverage waiting time : {0:.2f}ms'.format(waiting))"
      ],
      "execution_count": 8,
      "outputs": [
        {
          "output_type": "stream",
          "text": [
            "Process name : p1 p2 p3 p4\n",
            "Brurst time : 21 3 6 2\n",
            "0 p1 21 p2 24 p3 30 p4 32 \n",
            "Average waiting time : 18.75ms\n"
          ],
          "name": "stdout"
        }
      ]
    },
    {
      "cell_type": "markdown",
      "metadata": {
        "id": "w-rVtx10WprB"
      },
      "source": [
        "# **Shortest Job First**"
      ]
    },
    {
      "cell_type": "code",
      "metadata": {
        "colab": {
          "base_uri": "https://localhost:8080/"
        },
        "id": "AliaN1nRWr2H",
        "outputId": "05706b1c-5b3f-4632-db78-feca37b36381"
      },
      "source": [
        "import pandas as pd\n",
        "import numpy as np\n",
        "\n",
        "print('Process name :', end=' ')\n",
        "process = input().split()\n",
        "\n",
        "print('Brurst time :', end=' ')\n",
        "time = list(map(int, input().split()))\n",
        "\n",
        "type(process)\n",
        "type(process[1])\n",
        "\n",
        "type(time)\n",
        "type(time[1])\n",
        "\n",
        "\n",
        "df.sort_values(by=['Time'], ascending=True, axis=0, inplace=True)\n",
        "df\n",
        "print(0, end=' ')\n",
        "temp = 0\n",
        "l3 = [0]\n",
        "\n",
        "for p, t in zip(df.Process, df.Time):\n",
        "    temp += t\n",
        "    l3.append(temp)\n",
        "    print(p, temp, end=' ')\n",
        "\n",
        "l3 = l3[:-1]\n",
        "\n",
        "waiting = np.sum(l3)/len(l3)\n",
        "print('\\nAverage waiting time : {0:.2f}ms'.format(waiting))"
      ],
      "execution_count": 9,
      "outputs": [
        {
          "output_type": "stream",
          "text": [
            "Process name : p1 p2 p3 p4\n",
            "Brurst time : 21 3 6 2\n",
            "0 p4 2 p2 5 p3 11 p1 32 \n",
            "Average waiting time : 4.50ms\n"
          ],
          "name": "stdout"
        }
      ]
    },
    {
      "cell_type": "markdown",
      "metadata": {
        "id": "erwtlyitf3Xf"
      },
      "source": [
        "# **Priority Scheduling**"
      ]
    },
    {
      "cell_type": "code",
      "metadata": {
        "colab": {
          "base_uri": "https://localhost:8080/",
          "height": 222
        },
        "id": "nnz1m7SIgAHk",
        "outputId": "a7eaa194-c8be-4873-e764-87030265b289"
      },
      "source": [
        "import pandas as pd\n",
        "\n",
        "\n",
        "print('Process name :', end=' ')\n",
        "process = input().split()\n",
        "\n",
        "print('Brurst time :', end=' ')\n",
        "time = list(map(int, input().split()))\n",
        "\n",
        "print('Priority :', end=' ')\n",
        "priority = list(map(int, input().split()))\n",
        "\n",
        "nl = [process, time, priority]\n",
        "df = pd.DataFrame(nl).transpose()\n",
        "df.columns = ['Process', 'Time', 'Priority']\n",
        "df\n",
        "\n"
      ],
      "execution_count": 6,
      "outputs": [
        {
          "output_type": "stream",
          "text": [
            "Process name : p1 p2 p3 p4\n",
            "Brurst time : 21 3 6 2\n",
            "Priority : 2 1 4 3\n"
          ],
          "name": "stdout"
        },
        {
          "output_type": "execute_result",
          "data": {
            "text/html": [
              "<div>\n",
              "<style scoped>\n",
              "    .dataframe tbody tr th:only-of-type {\n",
              "        vertical-align: middle;\n",
              "    }\n",
              "\n",
              "    .dataframe tbody tr th {\n",
              "        vertical-align: top;\n",
              "    }\n",
              "\n",
              "    .dataframe thead th {\n",
              "        text-align: right;\n",
              "    }\n",
              "</style>\n",
              "<table border=\"1\" class=\"dataframe\">\n",
              "  <thead>\n",
              "    <tr style=\"text-align: right;\">\n",
              "      <th></th>\n",
              "      <th>Process</th>\n",
              "      <th>Time</th>\n",
              "      <th>Priority</th>\n",
              "    </tr>\n",
              "  </thead>\n",
              "  <tbody>\n",
              "    <tr>\n",
              "      <th>0</th>\n",
              "      <td>p1</td>\n",
              "      <td>21</td>\n",
              "      <td>2</td>\n",
              "    </tr>\n",
              "    <tr>\n",
              "      <th>1</th>\n",
              "      <td>p2</td>\n",
              "      <td>3</td>\n",
              "      <td>1</td>\n",
              "    </tr>\n",
              "    <tr>\n",
              "      <th>2</th>\n",
              "      <td>p3</td>\n",
              "      <td>6</td>\n",
              "      <td>4</td>\n",
              "    </tr>\n",
              "    <tr>\n",
              "      <th>3</th>\n",
              "      <td>p4</td>\n",
              "      <td>2</td>\n",
              "      <td>3</td>\n",
              "    </tr>\n",
              "  </tbody>\n",
              "</table>\n",
              "</div>"
            ],
            "text/plain": [
              "  Process Time Priority\n",
              "0      p1   21        2\n",
              "1      p2    3        1\n",
              "2      p3    6        4\n",
              "3      p4    2        3"
            ]
          },
          "metadata": {
            "tags": []
          },
          "execution_count": 6
        }
      ]
    },
    {
      "cell_type": "code",
      "metadata": {
        "colab": {
          "base_uri": "https://localhost:8080/"
        },
        "id": "krOzAH8mkNV9",
        "outputId": "c7340ea2-11ae-43cd-e925-b870971fbc12"
      },
      "source": [
        "import numpy as np\n",
        "\n",
        "df.sort_values(by=['Priority'], ascending=True, axis=0, inplace=True)\n",
        "df\n",
        "\n",
        "print(0, end=' ')\n",
        "\n",
        "temp = 0\n",
        "nl2 = [0]\n",
        "\n",
        "for p, t in zip(df.Process, df.Time): \n",
        "    temp += t\n",
        "    nl2.append(temp)\n",
        "    print(p, temp, end=' ')\n",
        "\n",
        "nl2 = nl2[:-1]\n",
        "nl2\n",
        "\n",
        "waiting = np.sum(nl2)/len(nl2)\n",
        "print('\\nAverage waiting time : {0:.2f}ms'.format(waiting))"
      ],
      "execution_count": 7,
      "outputs": [
        {
          "output_type": "stream",
          "text": [
            "0 p2 3 p1 24 p4 26 p3 32 \n",
            "Average waiting time : 13.25ms\n"
          ],
          "name": "stdout"
        }
      ]
    },
    {
      "cell_type": "markdown",
      "metadata": {
        "id": "lP5MNXkdnmrf"
      },
      "source": [
        "# **Round Robin**"
      ]
    },
    {
      "cell_type": "code",
      "metadata": {
        "colab": {
          "base_uri": "https://localhost:8080/"
        },
        "id": "EQVjqi1Gns6U",
        "outputId": "debeb870-04f9-492a-8723-db44ca19591d"
      },
      "source": [
        "def waitingtime(num_of_process, burst_time, waiting_time, quantum):\n",
        "    remaining_burst_time = [0] * num_of_process\n",
        "    for i in range(num_of_process):\n",
        "        remaining_burst_time[i] = burst_time[i]\n",
        "    time = 0\n",
        "    while 1:\n",
        "        done = True\n",
        "        for i in range(num_of_process):\n",
        "            if remaining_burst_time[i] > 0:\n",
        "                done = False\n",
        "                if remaining_burst_time[i] > quantum:\n",
        "                    time += quantum\n",
        "                    remaining_burst_time[i] -= quantum\n",
        "                    print(waiting_time[i], \"P\", i + 1, end='|')\n",
        "                else:\n",
        "                    time = time + remaining_burst_time[i]\n",
        "                    waiting_time[i] = time - burst_time[i]\n",
        "                    remaining_burst_time[i] = 0\n",
        "                    print(waiting_time[i], \"P\", i + 1, end='|')\n",
        "        if done:\n",
        "            break\n",
        "\n",
        "\n",
        "def findavgtime(num_of_process, burst_time, quantum):\n",
        "    waiting_time = [0] * num_of_process\n",
        "    waitingtime(num_of_process, burst_time, waiting_time, quantum)\n",
        "    total_waiting_time = 0\n",
        "    for i in range(num_of_process):\n",
        "        total_waiting_time = total_waiting_time + waiting_time[i]\n",
        "    print(\"\\nAverage waiting time =  \", (total_waiting_time / num_of_process))\n",
        "\n",
        "\n",
        "burst_time = []\n",
        "num_of_process = int(input(\"Enter Number of Process: \"))\n",
        "serial = 1\n",
        "for i in range(num_of_process):\n",
        "    print(\"For process = \", serial, end='')\n",
        "    burst_time.append(int(input(\", Burst Time = \")))\n",
        "    serial += 1\n",
        "\n",
        "quantum = int(input(\"Enter Quantum = \"))\n",
        "findavgtime(num_of_process, burst_time, quantum)"
      ],
      "execution_count": 10,
      "outputs": [
        {
          "output_type": "stream",
          "text": [
            "Enter Number of Process: 4\n",
            "For process =  1, Burst Time = 21\n",
            "For process =  2, Burst Time = 3\n",
            "For process =  3, Burst Time = 6\n",
            "For process =  4, Burst Time = 2\n",
            "Enter Quantum = 5\n",
            "0 P 1|5 P 2|0 P 3|13 P 4|0 P 1|15 P 3|0 P 1|0 P 1|11 P 1|\n",
            "Average waiting time =   11.0\n"
          ],
          "name": "stdout"
        }
      ]
    }
  ]
}