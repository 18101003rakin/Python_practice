{
  "nbformat": 4,
  "nbformat_minor": 0,
  "metadata": {
    "colab": {
      "name": "python_4.ipynb",
      "provenance": [],
      "authorship_tag": "ABX9TyO4mKvyJffq832VqO4UQh50",
      "include_colab_link": true
    },
    "kernelspec": {
      "name": "python3",
      "display_name": "Python 3"
    },
    "language_info": {
      "name": "python"
    }
  },
  "cells": [
    {
      "cell_type": "markdown",
      "metadata": {
        "id": "view-in-github",
        "colab_type": "text"
      },
      "source": [
        "<a href=\"https://colab.research.google.com/github/18101003rakin/python_practice/blob/master/python_4.ipynb\" target=\"_parent\"><img src=\"https://colab.research.google.com/assets/colab-badge.svg\" alt=\"Open In Colab\"/></a>"
      ]
    },
    {
      "cell_type": "markdown",
      "metadata": {
        "id": "TQ6RzERL-bL7"
      },
      "source": [
        "Tutorial_26 (Function)"
      ]
    },
    {
      "cell_type": "code",
      "metadata": {
        "colab": {
          "base_uri": "https://localhost:8080/"
        },
        "id": "vvH_SFkK9wqq",
        "outputId": "0dce220e-ac2a-4245-c7cc-18268de5f62e"
      },
      "source": [
        "def great_user():\n",
        "  print(\"Hi there!\")\n",
        "  print(\"Welcome abroad.\")\n",
        "\n",
        "print(\"Start\")\n",
        "great_user()\n",
        "print(\"Finish\")"
      ],
      "execution_count": 1,
      "outputs": [
        {
          "output_type": "stream",
          "text": [
            "Start\n",
            "Hi there!\n",
            "Welcome abroad.\n",
            "Finish\n"
          ],
          "name": "stdout"
        }
      ]
    },
    {
      "cell_type": "markdown",
      "metadata": {
        "id": "kMu8LV1GIZuS"
      },
      "source": [
        "Tutorial_27 (Function cont.)"
      ]
    },
    {
      "cell_type": "code",
      "metadata": {
        "colab": {
          "base_uri": "https://localhost:8080/"
        },
        "id": "gjMcJS6aIfRf",
        "outputId": "4f2eb253-7f52-4791-8146-7849ce52c60c"
      },
      "source": [
        "def great_user(name):\n",
        "  print(f\"High {name}!\")\n",
        "  print(\"Welcome abroad.\")\n",
        "\n",
        "print(\"Start\")\n",
        "great_user(\"Saladin\")\n",
        "print(\"Finish.\")"
      ],
      "execution_count": 3,
      "outputs": [
        {
          "output_type": "stream",
          "text": [
            "Start\n",
            "High Saladin!\n",
            "Welcome abroad.\n",
            "Finish.\n"
          ],
          "name": "stdout"
        }
      ]
    },
    {
      "cell_type": "markdown",
      "metadata": {
        "id": "XTrIaLY_JPyH"
      },
      "source": [
        "Tutorial_28 (Keyboard argument)"
      ]
    },
    {
      "cell_type": "code",
      "metadata": {
        "colab": {
          "base_uri": "https://localhost:8080/"
        },
        "id": "gHxapCcuJW0r",
        "outputId": "809878dd-680c-4a7a-984e-329b6c0145ec"
      },
      "source": [
        "def great_user(f_name,l_name):\n",
        "  print(f\"{f_name} {l_name}!\")\n",
        "  print(\"Welcome!\")\n",
        "\n",
        "print(\"Start\")\n",
        "great_user(f_name=\"Saladin\",l_name=\"Ayiubi\")\n",
        "print(\"Finish\")"
      ],
      "execution_count": 4,
      "outputs": [
        {
          "output_type": "stream",
          "text": [
            "Start\n",
            "Saladin Ayiubi!\n",
            "Welcome!\n",
            "Finish\n"
          ],
          "name": "stdout"
        }
      ]
    },
    {
      "cell_type": "markdown",
      "metadata": {
        "id": "nYDP5Yl5KYn6"
      },
      "source": [
        "Return Statement"
      ]
    },
    {
      "cell_type": "code",
      "metadata": {
        "colab": {
          "base_uri": "https://localhost:8080/"
        },
        "id": "mcOtp_OKKbSC",
        "outputId": "8d44c4ce-59b5-4caf-e7f8-1a9be5aee458"
      },
      "source": [
        "def square(number):\n",
        "  return number*number\n",
        "#print(square(3))\n",
        "square(3)"
      ],
      "execution_count": 6,
      "outputs": [
        {
          "output_type": "execute_result",
          "data": {
            "text/plain": [
              "9"
            ]
          },
          "metadata": {
            "tags": []
          },
          "execution_count": 6
        }
      ]
    },
    {
      "cell_type": "markdown",
      "metadata": {
        "id": "0aBm_ZhGKuHb"
      },
      "source": [
        "Emoji converter using function"
      ]
    },
    {
      "cell_type": "code",
      "metadata": {
        "colab": {
          "base_uri": "https://localhost:8080/"
        },
        "id": "LIc_mn0OLJyC",
        "outputId": "e72393a4-4a27-4341-d758-9217b5180315"
      },
      "source": [
        "def emoji_converter(message):\n",
        "  words = message.split(\" \")\n",
        "  emoji = {\n",
        "      \":)\" : \":)\",\n",
        "      \":(\" : \":(\"\n",
        "  }\n",
        "  output= \" \"\n",
        "  for word in words:\n",
        "   output+=emoji.get(word,word)+\" \"\n",
        "  return output\n",
        "\n",
        "message = input(\"> \")\n",
        "print(emoji_converter(message))"
      ],
      "execution_count": 12,
      "outputs": [
        {
          "output_type": "stream",
          "text": [
            "> :)\n",
            " :) \n"
          ],
          "name": "stdout"
        }
      ]
    },
    {
      "cell_type": "markdown",
      "metadata": {
        "id": "y6fmwE_PNPWF"
      },
      "source": [
        "Tutorial_29 (exception)"
      ]
    },
    {
      "cell_type": "code",
      "metadata": {
        "colab": {
          "base_uri": "https://localhost:8080/"
        },
        "id": "Kikbh0_kNW0j",
        "outputId": "f9b7ec76-54d9-421a-8f0d-6eae5074daeb"
      },
      "source": [
        "try:\n",
        "  age = int(input(\"Age : \"))\n",
        "  print(age)\n",
        "except ValueError:\n",
        " print(\"Invalid value\")"
      ],
      "execution_count": 18,
      "outputs": [
        {
          "output_type": "stream",
          "text": [
            "Age : 34\n",
            "34\n"
          ],
          "name": "stdout"
        }
      ]
    },
    {
      "cell_type": "markdown",
      "metadata": {
        "id": "KYg3cs_NOsjM"
      },
      "source": [
        "Tutorial_30 (constructor)"
      ]
    },
    {
      "cell_type": "code",
      "metadata": {
        "colab": {
          "base_uri": "https://localhost:8080/"
        },
        "id": "J7-WZzTIOyRh",
        "outputId": "1f45a516-7ea1-4143-8467-6739b5d7f2f3"
      },
      "source": [
        "class Point:\n",
        "  def __init__(self,x,y):   #__init__ is short form of initialize it will call when we creat new point object\n",
        "    self.x = x  #reference of the current object\n",
        "    self.y = y\n",
        "  def move(self):\n",
        "    print(\"Move\")\n",
        "  def draw(self):\n",
        "    print(\"Draw\")\n",
        "\n",
        "point = Point(10,20)\n",
        "print(point.y)"
      ],
      "execution_count": 21,
      "outputs": [
        {
          "output_type": "stream",
          "text": [
            "20\n"
          ],
          "name": "stdout"
        }
      ]
    },
    {
      "cell_type": "markdown",
      "metadata": {
        "id": "tzq3AlcXQFIY"
      },
      "source": [
        "Tutorial_31 (classes)"
      ]
    },
    {
      "cell_type": "code",
      "metadata": {
        "colab": {
          "base_uri": "https://localhost:8080/"
        },
        "id": "lZcHyWcEQNO6",
        "outputId": "a7174c01-33cb-4a21-f06a-7989ad243994"
      },
      "source": [
        "class Point : \n",
        "  def move(self):\n",
        "    print(\"Move\")\n",
        "\n",
        "  def draw(self):\n",
        "    print(\"draw\")\n",
        "\n",
        "point1 = Point()\n",
        "point1.draw()\n",
        "point1.move()"
      ],
      "execution_count": 23,
      "outputs": [
        {
          "output_type": "stream",
          "text": [
            "draw\n",
            "Move\n"
          ],
          "name": "stdout"
        }
      ]
    },
    {
      "cell_type": "markdown",
      "metadata": {
        "id": "wa8Bp21zRBqb"
      },
      "source": [
        "Define a new type Person which has a name attribute and a talk() method"
      ]
    },
    {
      "cell_type": "code",
      "metadata": {
        "colab": {
          "base_uri": "https://localhost:8080/"
        },
        "id": "djeER_dFRPdq",
        "outputId": "e4ed5ce9-70ad-496f-8c57-a91a30814342"
      },
      "source": [
        "class Person : \n",
        "  def __init__(self,name):\n",
        "    self.name = name\n",
        "  \n",
        "  def talk(self):\n",
        "    print(f\"Hi, I am {self.name} :)\")\n",
        "\n",
        "john = Person(\"Lemon Ahmed\")\n",
        "john.talk()"
      ],
      "execution_count": 25,
      "outputs": [
        {
          "output_type": "stream",
          "text": [
            "Hi, I am Lemon Ahmed :)\n"
          ],
          "name": "stdout"
        }
      ]
    }
  ]
}