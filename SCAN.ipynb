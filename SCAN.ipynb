{
  "nbformat": 4,
  "nbformat_minor": 0,
  "metadata": {
    "colab": {
      "name": "SCAN.ipynb",
      "provenance": [],
      "authorship_tag": "ABX9TyMT5jWXR/IoGLXYOnfhbKwo",
      "include_colab_link": true
    },
    "kernelspec": {
      "name": "python3",
      "display_name": "Python 3"
    },
    "language_info": {
      "name": "python"
    }
  },
  "cells": [
    {
      "cell_type": "markdown",
      "metadata": {
        "id": "view-in-github",
        "colab_type": "text"
      },
      "source": [
        "<a href=\"https://colab.research.google.com/github/18101003rakin/python_practice/blob/master/SCAN.ipynb\" target=\"_parent\"><img src=\"https://colab.research.google.com/assets/colab-badge.svg\" alt=\"Open In Colab\"/></a>"
      ]
    },
    {
      "cell_type": "code",
      "metadata": {
        "colab": {
          "base_uri": "https://localhost:8080/"
        },
        "id": "ujhUVfcJ84lt",
        "outputId": "673adc78-2973-4f73-b618-cab028ccc8ab"
      },
      "source": [
        "queue = list(map(int, input('Queue: ').split()))\n",
        "head = int(input('Head: '))\n",
        "\n",
        "q = queue.copy()\n",
        "q.insert(0, head)\n",
        "q.sort()\n",
        "print(q)\n",
        "\n",
        "l1 = q[:q.index(head)+1]\n",
        "print(l1)\n",
        "\n",
        "l1.sort(reverse=True)\n",
        "l1.append(0)\n",
        "print(l1)\n",
        "\n",
        "l2 = q[q.index(head)+1:]\n",
        "print(l2)\n",
        "\n",
        "l3 = l1 + l2\n",
        "print(l3)\n",
        "\n",
        "l2.insert(0, 0)\n",
        "print(l2)"
      ],
      "execution_count": null,
      "outputs": [
        {
          "output_type": "stream",
          "name": "stdout",
          "text": [
            "Queue: 98 183 37 122 14 124 65 67\n",
            "Head: 53\n",
            "[14, 37, 53, 65, 67, 98, 122, 124, 183]\n",
            "[14, 37, 53]\n",
            "[53, 37, 14, 0]\n",
            "[65, 67, 98, 122, 124, 183]\n",
            "[53, 37, 14, 0, 65, 67, 98, 122, 124, 183]\n",
            "[0, 65, 67, 98, 122, 124, 183]\n"
          ]
        }
      ]
    },
    {
      "cell_type": "code",
      "metadata": {
        "colab": {
          "base_uri": "https://localhost:8080/"
        },
        "id": "ECnXqPPkCEyM",
        "outputId": "147a2664-4e69-43c3-ef43-86857a35c1d5"
      },
      "source": [
        "cont = []\n",
        "\n",
        "m = len(l1)\n",
        "n = len(l2)\n",
        "\n",
        "print(f'Queue: {queue}\\nHead: {head}\\n')\n",
        "print(f'Path: {l3}\\nEquation:', end=' ')\n",
        "\n",
        "for i in range(m - 1):\n",
        "    print(f'({l1[i]} - {l1[i + 1]})', end='')\n",
        "    cont.append(abs(l1[i] - l1[i + 1]))\n",
        "    if i < (m - 2):\n",
        "        print(end=' + ')\n",
        "\n",
        "print(end=' + ')\n",
        "\n",
        "for j in range(n - 1):\n",
        "    print(f'({l2[j+1]} - {l2[j]})', end='')\n",
        "    cont.append(abs(l2[j+1] - l2[j]))\n",
        "    if j < (n - 2):\n",
        "        print(end=' + ')\n",
        "\n",
        "print(f'\\nIllustration shows total head movement of {sum(cont)} cylinders')"
      ],
      "execution_count": null,
      "outputs": [
        {
          "output_type": "stream",
          "name": "stdout",
          "text": [
            "Queue: [98, 183, 37, 122, 14, 124, 65, 67]\n",
            "Head: 53\n",
            "\n",
            "Path: [53, 37, 14, 0, 65, 67, 98, 122, 124, 183]\n",
            "Equation: (53 - 37) + (37 - 14) + (14 - 0) + (65 - 0) + (67 - 65) + (98 - 67) + (122 - 98) + (124 - 122) + (183 - 124)\n",
            "Illustration shows total head movement of 236 cylinders\n"
          ]
        }
      ]
    }
  ]
}