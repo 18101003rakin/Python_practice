{
  "nbformat": 4,
  "nbformat_minor": 0,
  "metadata": {
    "colab": {
      "name": "python_6.ipynb",
      "provenance": [],
      "authorship_tag": "ABX9TyNX8A4GBYtj6/bHJFph6/jS",
      "include_colab_link": true
    },
    "kernelspec": {
      "name": "python3",
      "display_name": "Python 3"
    },
    "language_info": {
      "name": "python"
    }
  },
  "cells": [
    {
      "cell_type": "markdown",
      "metadata": {
        "id": "view-in-github",
        "colab_type": "text"
      },
      "source": [
        "<a href=\"https://colab.research.google.com/github/18101003rakin/python_practice/blob/master/python_6.ipynb\" target=\"_parent\"><img src=\"https://colab.research.google.com/assets/colab-badge.svg\" alt=\"Open In Colab\"/></a>"
      ]
    },
    {
      "cell_type": "markdown",
      "metadata": {
        "id": "3YU9FE8WETos"
      },
      "source": [
        "Bank Account System"
      ]
    },
    {
      "cell_type": "code",
      "metadata": {
        "colab": {
          "base_uri": "https://localhost:8080/"
        },
        "id": "Cc9H6BGQB_LY",
        "outputId": "2d07190b-7921-414c-f456-19367a5c1104"
      },
      "source": [
        "class BankAccount :\n",
        "  def __init__(self,first_name,last_name,date_of_birth,nid_no,contact_no,address,current_balance,acc_no):\n",
        "    self.first_name = first_name\n",
        "    self.last_name = last_name\n",
        "    self.date_of_birth = date_of_birth\n",
        "    self.nid_no = nid_no\n",
        "    self.contact_no = contact_no\n",
        "    self.address = address\n",
        "    self.current_balance = current_balance\n",
        "    self.acc_no = acc_no\n",
        "  \n",
        "  def depsit(self,account_no,dep_amt):\n",
        "    if self.acc_no == account_no:\n",
        "      if dep_amt>1000:\n",
        "        self.current_balance += dep_amt\n",
        "      else:\n",
        "        print(\"Minimum deposit ammount is 1000 Taka.\")\n",
        "    else:\n",
        "      print(\"Worng account number.\")\n",
        "\n",
        "  def withdraw(self,account_no,withdraw_amt):\n",
        "    if self.acc_no == account_no:\n",
        "      if withdraw_amt<self.current_balance:\n",
        "        current_balance -= withdraw_ammount\n",
        "      else:\n",
        "        print(\"Not enough balance.\")\n",
        "    else:\n",
        "      print(\"Wrong account number.\")\n",
        "\n",
        "  def show(self,account_no):\n",
        "    if self.acc_no == account_no:\n",
        "      return self.current_balance\n",
        "    else:\n",
        "      print(\"Wrong account number.\")\n",
        "\n",
        "bank = BankAccount(\"Tahiyat\",\"Hossain\",\"2005\",\"1123456778\",\"01734195472\",\"Dinajpur\",100000,\"000001\")"
      ],
      "execution_count": 22,
      "outputs": [
        {
          "output_type": "stream",
          "text": [
            "Minimum deposit ammount is 1000 Taka.\n"
          ],
          "name": "stdout"
        }
      ]
    }
  ]
}