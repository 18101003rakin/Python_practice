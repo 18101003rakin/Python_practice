{
  "nbformat": 4,
  "nbformat_minor": 0,
  "metadata": {
    "colab": {
      "name": "Lab-2.ipynb",
      "provenance": [],
      "authorship_tag": "ABX9TyMeDjfA4BpBUXetkOv+UejU",
      "include_colab_link": true
    },
    "kernelspec": {
      "name": "python3",
      "display_name": "Python 3"
    },
    "language_info": {
      "name": "python"
    }
  },
  "cells": [
    {
      "cell_type": "markdown",
      "metadata": {
        "id": "view-in-github",
        "colab_type": "text"
      },
      "source": [
        "<a href=\"https://colab.research.google.com/github/18101003rakin/python_practice/blob/master/Lab_2.ipynb\" target=\"_parent\"><img src=\"https://colab.research.google.com/assets/colab-badge.svg\" alt=\"Open In Colab\"/></a>"
      ]
    },
    {
      "cell_type": "markdown",
      "metadata": {
        "id": "kzAIjjWeVO-c"
      },
      "source": [
        "**Disk Scheduling : FCFS**"
      ]
    },
    {
      "cell_type": "code",
      "metadata": {
        "colab": {
          "base_uri": "https://localhost:8080/"
        },
        "id": "8RL7dVBMJjBl",
        "outputId": "74fa8c3c-4fae-46ba-c29c-f46019d9c109"
      },
      "source": [
        "queue = list(map(int, input('Sequence : ').split()))\n",
        "header = int(input('Header : '))\n",
        "\n",
        "queue.insert(0, header)\n",
        "print('Path = ',queue)\n",
        "\n",
        "temp = [0]\n",
        "\n",
        "for i in range(1,len(queue)):\n",
        "    if i == len(queue)-1:\n",
        "        print('abs({}-{})'.format(queue[i],queue[i-1]))\n",
        "    else:\n",
        "        print('abs({}-{})'.format(queue[i],queue[i-1]),end='+')\n",
        "    temp.append(abs(queue[i]-queue[i-1]))\n",
        "\n",
        "print('Total path cost = ',sum(temp))"
      ],
      "execution_count": null,
      "outputs": [
        {
          "output_type": "stream",
          "text": [
            "Sequence : 53 98 183 37 122 14 124 65 67\n",
            "Header : 53\n",
            "Path =  [53, 53, 98, 183, 37, 122, 14, 124, 65, 67]\n",
            "abs(53-53)+abs(98-53)+abs(183-98)+abs(37-183)+abs(122-37)+abs(14-122)+abs(124-14)+abs(65-124)+abs(67-65)\n",
            "Total path cost =  640\n"
          ],
          "name": "stdout"
        }
      ]
    },
    {
      "cell_type": "markdown",
      "metadata": {
        "id": "07d9L4yYVY0c"
      },
      "source": [
        "**Disk Scheduling : SSTF**"
      ]
    },
    {
      "cell_type": "code",
      "metadata": {
        "colab": {
          "base_uri": "https://localhost:8080/"
        },
        "id": "ABgJhz48VgM0",
        "outputId": "96832e0b-d1f2-4300-d40a-c5db8a04e11b"
      },
      "source": [
        "path = [header]\n",
        "cnt = len(queue)-1\n",
        "val=0\n",
        "while queue:\n",
        "    \n",
        "    if cnt == 0:\n",
        "        queue.remove(header)\n",
        "        hdr = path[len(path)-1]\n",
        "        minDist = 9999999999999999999\n",
        "        for i in queue:\n",
        "            if minDist>abs(hdr-i):\n",
        "                minDist = abs(hdr-i)\n",
        "                temp = i\n",
        "        print('abs({}-{})'.format(hdr,temp))\n",
        "        path.append(temp)\n",
        "        header=temp\n",
        "    else:\n",
        "        queue.remove(header)\n",
        "        hdr = path[len(path)-1]\n",
        "        minDist = 9999999999999999999\n",
        "        for i in queue:\n",
        "            if minDist>abs(hdr-i):\n",
        "                minDist = abs(hdr-i)\n",
        "                temp = i\n",
        "        print('abs({}-{})'.format(hdr,temp),end='+')\n",
        "        val+=abs(hdr-temp)\n",
        "        path.append(temp)\n",
        "        header=temp\n",
        "\n",
        "        \n",
        "    cnt-=1\n",
        "\n",
        "print('Path is',path[:-1])\n",
        "\n",
        "print('Path cost is',val)"
      ],
      "execution_count": null,
      "outputs": [
        {
          "output_type": "stream",
          "text": [
            "abs(53-53)+abs(53-65)+abs(65-67)+abs(67-37)+abs(37-14)+abs(14-98)+abs(98-122)+abs(122-124)+abs(124-183)+abs(183-183)\n",
            "Path is [53, 53, 65, 67, 37, 14, 98, 122, 124, 183]\n",
            "Path cost is 236\n"
          ],
          "name": "stdout"
        }
      ]
    }
  ]
}