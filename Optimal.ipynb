{
  "nbformat": 4,
  "nbformat_minor": 0,
  "metadata": {
    "colab": {
      "name": "Optimal.ipynb",
      "provenance": [],
      "authorship_tag": "ABX9TyMWA78WM2K7w/sDTIqhw8ex",
      "include_colab_link": true
    },
    "kernelspec": {
      "name": "python3",
      "display_name": "Python 3"
    },
    "language_info": {
      "name": "python"
    }
  },
  "cells": [
    {
      "cell_type": "markdown",
      "metadata": {
        "id": "view-in-github",
        "colab_type": "text"
      },
      "source": [
        "<a href=\"https://colab.research.google.com/github/18101003rakin/python_practice/blob/master/Optimal.ipynb\" target=\"_parent\"><img src=\"https://colab.research.google.com/assets/colab-badge.svg\" alt=\"Open In Colab\"/></a>"
      ]
    },
    {
      "cell_type": "markdown",
      "metadata": {
        "id": "yqbm2PP3dpHD"
      },
      "source": [
        "Optimal"
      ]
    },
    {
      "cell_type": "code",
      "metadata": {
        "colab": {
          "base_uri": "https://localhost:8080/"
        },
        "id": "zF0OqzxDdR7-",
        "outputId": "08665897-6cf4-4ade-a762-a7508c615218"
      },
      "source": [
        "rs = list(map(int, input('Reference Sting: ').split()))\n",
        "fs = int(input('Frame no: '))\n",
        "flts = 0\n",
        "hits = 0\n",
        "cont = []\n",
        "temp = rs.copy()\n",
        "\n",
        "n = len(rs)\n",
        "for i in range(n):\n",
        "    temp.remove(rs[i])\n",
        "    if (len(cont) < fs):\n",
        "        if (rs[i] not in cont):\n",
        "            cont.append(rs[i])\n",
        "            print(cont)\n",
        "            flts += 1\n",
        "    else:\n",
        "        if (rs[i] not in cont):\n",
        "            p = []\n",
        "            demo = cont.copy()\n",
        "\n",
        "            for x in temp:\n",
        "                if x in cont:\n",
        "                    p.append(x)\n",
        "\n",
        "            q = p[::-1]\n",
        "            for y in q:\n",
        "                while (q.count(y) > 1):\n",
        "                    q.remove(y)\n",
        "\n",
        "            r = q[::-1]\n",
        "            if (len(r) < 3):\n",
        "                for y in cont:\n",
        "                    if y in r:\n",
        "                        demo.remove(y)\n",
        "                v = demo[0]\n",
        "            else:\n",
        "                v = r[len(r)-1]\n",
        "            \n",
        "            cont[cont.index(v)] = rs[i]\n",
        "            print(cont)\n",
        "            flts += 1\n",
        "        else:\n",
        "            hits += 1\n",
        "            print('- - - - -')\n",
        "print(f'Total page faults: {flts}\\nTotal hits: {hits}')"
      ],
      "execution_count": 1,
      "outputs": [
        {
          "output_type": "stream",
          "name": "stdout",
          "text": [
            "Reference Sting: 7 0 1 2 0 3 0 4 2 3 0 3 2 1 2 0 1 7 0 1\n",
            "Frame no: 3\n",
            "[7]\n",
            "[7, 0]\n",
            "[7, 0, 1]\n",
            "[2, 0, 1]\n",
            "- - - - -\n",
            "[2, 0, 3]\n",
            "- - - - -\n",
            "[2, 4, 3]\n",
            "- - - - -\n",
            "- - - - -\n",
            "[2, 0, 3]\n",
            "- - - - -\n",
            "- - - - -\n",
            "[2, 0, 1]\n",
            "- - - - -\n",
            "- - - - -\n",
            "- - - - -\n",
            "[7, 0, 1]\n",
            "- - - - -\n",
            "- - - - -\n",
            "Total page faults: 9\n",
            "Total hits: 11\n"
          ]
        }
      ]
    }
  ]
}