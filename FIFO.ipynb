{
  "nbformat": 4,
  "nbformat_minor": 0,
  "metadata": {
    "colab": {
      "name": "FIFO.ipynb",
      "provenance": [],
      "authorship_tag": "ABX9TyNTUqEL/zElXTUD/lma9jBO",
      "include_colab_link": true
    },
    "kernelspec": {
      "name": "python3",
      "display_name": "Python 3"
    },
    "language_info": {
      "name": "python"
    }
  },
  "cells": [
    {
      "cell_type": "markdown",
      "metadata": {
        "id": "view-in-github",
        "colab_type": "text"
      },
      "source": [
        "<a href=\"https://colab.research.google.com/github/18101003rakin/python_practice/blob/master/FIFO.ipynb\" target=\"_parent\"><img src=\"https://colab.research.google.com/assets/colab-badge.svg\" alt=\"Open In Colab\"/></a>"
      ]
    },
    {
      "cell_type": "markdown",
      "metadata": {
        "id": "nY6O86KPcln_"
      },
      "source": [
        "FIFO"
      ]
    },
    {
      "cell_type": "code",
      "metadata": {
        "colab": {
          "base_uri": "https://localhost:8080/"
        },
        "id": "mwn7kYxuci12",
        "outputId": "a15c5d8d-c0d2-48a2-aa21-054c0f275578"
      },
      "source": [
        "rs = list(map(int, input('Reference Sting: ').split()))\n",
        "fs = int(input('Frame no: '))\n",
        "cont = []\n",
        "keys = []\n",
        "flts = 0\n",
        "hits = 0\n",
        "\n",
        "n = len(rs)\n",
        "for i in range(n):\n",
        "    if (len(cont) < fs):\n",
        "        if (rs[i] not in cont):\n",
        "            cont.append(rs[i])\n",
        "            keys.append(rs[i])\n",
        "            print(cont)\n",
        "            flts += 1\n",
        "    else:\n",
        "        if (rs[i] not in cont):\n",
        "            v = keys[0]\n",
        "            keys.pop(0)\n",
        "            cont[cont.index(v)] = rs[i]\n",
        "            print(cont)\n",
        "            keys.append(rs[i])\n",
        "            flts += 1\n",
        "        else:\n",
        "            hits += 1\n",
        "            print('< - - - >')\n",
        "print(f'Total page faults: {flts}\\nTotal hits: {hits}')"
      ],
      "execution_count": 1,
      "outputs": [
        {
          "output_type": "stream",
          "name": "stdout",
          "text": [
            "Reference Sting: 7 0 1 2 0 3 0 4 2 3 0 3 2 1 2 0 1 7 0 1\n",
            "Frame no: 3\n",
            "[7]\n",
            "[7, 0]\n",
            "[7, 0, 1]\n",
            "[2, 0, 1]\n",
            "< - - - >\n",
            "[2, 3, 1]\n",
            "[2, 3, 0]\n",
            "[4, 3, 0]\n",
            "[4, 2, 0]\n",
            "[4, 2, 3]\n",
            "[0, 2, 3]\n",
            "< - - - >\n",
            "< - - - >\n",
            "[0, 1, 3]\n",
            "[0, 1, 2]\n",
            "< - - - >\n",
            "< - - - >\n",
            "[7, 1, 2]\n",
            "[7, 0, 2]\n",
            "[7, 0, 1]\n",
            "Total page faults: 15\n",
            "Total hits: 5\n"
          ]
        }
      ]
    }
  ]
}